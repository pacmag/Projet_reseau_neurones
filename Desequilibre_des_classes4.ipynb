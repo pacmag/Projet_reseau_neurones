{
 "cells": [
  {
   "cell_type": "markdown",
   "source": [
    "# Gérer le déséquilibre des classes"
   ],
   "metadata": {
    "collapsed": false
   },
   "id": "7830401b6c56e2de"
  },
  {
   "cell_type": "markdown",
   "source": [
    "### Importation des librairies"
   ],
   "metadata": {
    "collapsed": false
   },
   "id": "992720414685357f"
  },
  {
   "cell_type": "code",
   "outputs": [
    {
     "name": "stdout",
     "output_type": "stream",
     "text": [
      "WARNING:tensorflow:From C:\\Users\\arthu\\AppData\\Local\\Programs\\Python\\Python39\\lib\\site-packages\\keras\\src\\losses.py:2976: The name tf.losses.sparse_softmax_cross_entropy is deprecated. Please use tf.compat.v1.losses.sparse_softmax_cross_entropy instead.\n"
     ]
    }
   ],
   "source": [
    "import tensorflow as tf\n",
    "import pandas as pd\n",
    "import numpy as np\n",
    "from sklearn.utils import class_weight\n",
    "import seaborn as sn\n",
    "from tensorflow.keras.applications import MobileNetV2\n",
    "from tensorflow.keras.layers import Dense, Flatten, Input, Conv2D, BatchNormalization, ReLU, DepthwiseConv2D, GlobalAveragePooling2D"
   ],
   "metadata": {
    "collapsed": false,
    "ExecuteTime": {
     "end_time": "2024-02-18T15:02:12.592522900Z",
     "start_time": "2024-02-18T15:02:00.504222300Z"
    }
   },
   "id": "ad66d59e50a9d861",
   "execution_count": 1
  },
  {
   "cell_type": "markdown",
   "source": [
    "## 1) Mise en évidence du déséquilibre"
   ],
   "metadata": {
    "collapsed": false
   },
   "id": "7e541b06fbf655fc"
  },
  {
   "cell_type": "markdown",
   "source": [
    "### 1.1) Chargement des données"
   ],
   "metadata": {
    "collapsed": false
   },
   "id": "cb296c1cfe7de236"
  },
  {
   "cell_type": "code",
   "outputs": [
    {
     "name": "stdout",
     "output_type": "stream",
     "text": [
      "Found 294182 files belonging to 32 classes.\n"
     ]
    }
   ],
   "source": [
    "dataset = tf.keras.utils.image_dataset_from_directory(\n",
    "    'third_steps',\n",
    "    labels='inferred',\n",
    "    label_mode='int',\n",
    "    color_mode='grayscale',\n",
    "    image_size=(45,45)\n",
    ")"
   ],
   "metadata": {
    "collapsed": false,
    "ExecuteTime": {
     "end_time": "2024-02-18T15:02:40.004321700Z",
     "start_time": "2024-02-18T15:02:12.589530400Z"
    }
   },
   "id": "d346da400dc4a910",
   "execution_count": 2
  },
  {
   "cell_type": "markdown",
   "source": [
    "### 1.2) Observation de la répartition des classes"
   ],
   "metadata": {
    "collapsed": false
   },
   "id": "6c3f89283db5daa"
  },
  {
   "cell_type": "markdown",
   "source": [
    "On récupère tout les labels de notre dataset dans une liste."
   ],
   "metadata": {
    "collapsed": false
   },
   "id": "35e17a3b9e7746bd"
  },
  {
   "cell_type": "code",
   "outputs": [],
   "source": [
    "all_labels = []\n",
    "for image, label in dataset:\n",
    "    # Convertir les labels en numpy array\n",
    "    labels = np.array(label)\n",
    "    # Étendre la liste avec les nouveaux labels\n",
    "    all_labels.extend(labels)"
   ],
   "metadata": {
    "collapsed": false,
    "ExecuteTime": {
     "end_time": "2024-02-18T15:03:53.127215600Z",
     "start_time": "2024-02-18T15:02:40.006288600Z"
    }
   },
   "id": "cb4219bd1e11daa6",
   "execution_count": 3
  },
  {
   "cell_type": "markdown",
   "source": [
    "On mets tout dans un data frame, et à l'aide des fonctions d'aggregation .count() et .groupby(), on compte le nombre d'éléments par classe."
   ],
   "metadata": {
    "collapsed": false
   },
   "id": "30d56c14b5ec873c"
  },
  {
   "cell_type": "code",
   "outputs": [
    {
     "data": {
      "text/plain": "       count labels\nlabel              \n0      14294      (\n1      14355      )\n2      25112      +\n3      33997      -\n4       6914      0\n5      26520      1\n6      26141      2\n7      10909      3\n8       7396      4\n9       3545      5\n10      3118      6\n11      2909      7\n12      3068      8\n13      3737      9\n14     13104      =\n15     12367      A\n16      5802      C\n17      1692      G\n18     26594      X\n19      8651      b\n20      4852      d\n21      3003      e\n22      3712      f\n23      5140      i\n24      3074      k\n25      2332     pi\n26      3251  times\n27      1269      u\n28      1558      v\n29       556      w\n30      9340      y\n31      5870      z",
      "text/html": "<div>\n<style scoped>\n    .dataframe tbody tr th:only-of-type {\n        vertical-align: middle;\n    }\n\n    .dataframe tbody tr th {\n        vertical-align: top;\n    }\n\n    .dataframe thead th {\n        text-align: right;\n    }\n</style>\n<table border=\"1\" class=\"dataframe\">\n  <thead>\n    <tr style=\"text-align: right;\">\n      <th></th>\n      <th>count</th>\n      <th>labels</th>\n    </tr>\n    <tr>\n      <th>label</th>\n      <th></th>\n      <th></th>\n    </tr>\n  </thead>\n  <tbody>\n    <tr>\n      <th>0</th>\n      <td>14294</td>\n      <td>(</td>\n    </tr>\n    <tr>\n      <th>1</th>\n      <td>14355</td>\n      <td>)</td>\n    </tr>\n    <tr>\n      <th>2</th>\n      <td>25112</td>\n      <td>+</td>\n    </tr>\n    <tr>\n      <th>3</th>\n      <td>33997</td>\n      <td>-</td>\n    </tr>\n    <tr>\n      <th>4</th>\n      <td>6914</td>\n      <td>0</td>\n    </tr>\n    <tr>\n      <th>5</th>\n      <td>26520</td>\n      <td>1</td>\n    </tr>\n    <tr>\n      <th>6</th>\n      <td>26141</td>\n      <td>2</td>\n    </tr>\n    <tr>\n      <th>7</th>\n      <td>10909</td>\n      <td>3</td>\n    </tr>\n    <tr>\n      <th>8</th>\n      <td>7396</td>\n      <td>4</td>\n    </tr>\n    <tr>\n      <th>9</th>\n      <td>3545</td>\n      <td>5</td>\n    </tr>\n    <tr>\n      <th>10</th>\n      <td>3118</td>\n      <td>6</td>\n    </tr>\n    <tr>\n      <th>11</th>\n      <td>2909</td>\n      <td>7</td>\n    </tr>\n    <tr>\n      <th>12</th>\n      <td>3068</td>\n      <td>8</td>\n    </tr>\n    <tr>\n      <th>13</th>\n      <td>3737</td>\n      <td>9</td>\n    </tr>\n    <tr>\n      <th>14</th>\n      <td>13104</td>\n      <td>=</td>\n    </tr>\n    <tr>\n      <th>15</th>\n      <td>12367</td>\n      <td>A</td>\n    </tr>\n    <tr>\n      <th>16</th>\n      <td>5802</td>\n      <td>C</td>\n    </tr>\n    <tr>\n      <th>17</th>\n      <td>1692</td>\n      <td>G</td>\n    </tr>\n    <tr>\n      <th>18</th>\n      <td>26594</td>\n      <td>X</td>\n    </tr>\n    <tr>\n      <th>19</th>\n      <td>8651</td>\n      <td>b</td>\n    </tr>\n    <tr>\n      <th>20</th>\n      <td>4852</td>\n      <td>d</td>\n    </tr>\n    <tr>\n      <th>21</th>\n      <td>3003</td>\n      <td>e</td>\n    </tr>\n    <tr>\n      <th>22</th>\n      <td>3712</td>\n      <td>f</td>\n    </tr>\n    <tr>\n      <th>23</th>\n      <td>5140</td>\n      <td>i</td>\n    </tr>\n    <tr>\n      <th>24</th>\n      <td>3074</td>\n      <td>k</td>\n    </tr>\n    <tr>\n      <th>25</th>\n      <td>2332</td>\n      <td>pi</td>\n    </tr>\n    <tr>\n      <th>26</th>\n      <td>3251</td>\n      <td>times</td>\n    </tr>\n    <tr>\n      <th>27</th>\n      <td>1269</td>\n      <td>u</td>\n    </tr>\n    <tr>\n      <th>28</th>\n      <td>1558</td>\n      <td>v</td>\n    </tr>\n    <tr>\n      <th>29</th>\n      <td>556</td>\n      <td>w</td>\n    </tr>\n    <tr>\n      <th>30</th>\n      <td>9340</td>\n      <td>y</td>\n    </tr>\n    <tr>\n      <th>31</th>\n      <td>5870</td>\n      <td>z</td>\n    </tr>\n  </tbody>\n</table>\n</div>"
     },
     "execution_count": 4,
     "metadata": {},
     "output_type": "execute_result"
    }
   ],
   "source": [
    "classes_train_ds = pd.DataFrame(all_labels, columns=['label']) # On créé un dataframe\n",
    "classes_train_ds['count'] = classes_train_ds['label'] #on copie dans une colonne count la colonne label\n",
    "dist_classes = classes_train_ds.groupby('label').count() # on compte le nombre d'éléments par classe\n",
    "dist_classes['labels'] = dataset.class_names #On récupère le nom des classes \n",
    "dist_classes.head(32)"
   ],
   "metadata": {
    "collapsed": false,
    "ExecuteTime": {
     "end_time": "2024-02-18T15:03:54.505892400Z",
     "start_time": "2024-02-18T15:03:53.135195800Z"
    }
   },
   "id": "fbd8ec5e5cdd1497",
   "execution_count": 4
  },
  {
   "cell_type": "markdown",
   "source": [
    "Ce qui donne graphiquement :"
   ],
   "metadata": {
    "collapsed": false
   },
   "id": "f39ac50400bf298b"
  },
  {
   "cell_type": "code",
   "outputs": [
    {
     "data": {
      "text/plain": "<Axes: xlabel='labels', ylabel='count'>"
     },
     "execution_count": 5,
     "metadata": {},
     "output_type": "execute_result"
    },
    {
     "data": {
      "text/plain": "<Figure size 640x480 with 1 Axes>",
      "image/png": "[encoded data removed]"
     },
     "metadata": {},
     "output_type": "display_data"
    }
   ],
   "source": [
    "sn.barplot(x='labels', y='count',data=dist_classes)"
   ],
   "metadata": {
    "collapsed": false,
    "ExecuteTime": {
     "end_time": "2024-02-18T15:03:55.086447600Z",
     "start_time": "2024-02-18T15:03:54.502900600Z"
    }
   },
   "id": "fca3466b39053760",
   "execution_count": 5
  },
  {
   "cell_type": "code",
   "outputs": [
    {
     "data": {
      "text/plain": "              count\ncount     32.000000\nmean    9193.187500\nstd     9019.947884\nmin      556.000000\n25%     3072.500000\n50%     5471.000000\n75%    12551.250000\nmax    33997.000000",
      "text/html": "<div>\n<style scoped>\n    .dataframe tbody tr th:only-of-type {\n        vertical-align: middle;\n    }\n\n    .dataframe tbody tr th {\n        vertical-align: top;\n    }\n\n    .dataframe thead th {\n        text-align: right;\n    }\n</style>\n<table border=\"1\" class=\"dataframe\">\n  <thead>\n    <tr style=\"text-align: right;\">\n      <th></th>\n      <th>count</th>\n    </tr>\n  </thead>\n  <tbody>\n    <tr>\n      <th>count</th>\n      <td>32.000000</td>\n    </tr>\n    <tr>\n      <th>mean</th>\n      <td>9193.187500</td>\n    </tr>\n    <tr>\n      <th>std</th>\n      <td>9019.947884</td>\n    </tr>\n    <tr>\n      <th>min</th>\n      <td>556.000000</td>\n    </tr>\n    <tr>\n      <th>25%</th>\n      <td>3072.500000</td>\n    </tr>\n    <tr>\n      <th>50%</th>\n      <td>5471.000000</td>\n    </tr>\n    <tr>\n      <th>75%</th>\n      <td>12551.250000</td>\n    </tr>\n    <tr>\n      <th>max</th>\n      <td>33997.000000</td>\n    </tr>\n  </tbody>\n</table>\n</div>"
     },
     "execution_count": 6,
     "metadata": {},
     "output_type": "execute_result"
    }
   ],
   "source": [
    "dist_classes.describe()"
   ],
   "metadata": {
    "collapsed": false,
    "ExecuteTime": {
     "end_time": "2024-02-18T15:03:55.107391100Z",
     "start_time": "2024-02-18T15:03:55.087444400Z"
    }
   },
   "id": "9c4bdb40d41ef7e0",
   "execution_count": 6
  },
  {
   "cell_type": "markdown",
   "source": [
    "On observe effectivement un fort déséquilibre du nombre d'éléments dans nos classes. Nous allons donc tester plusieurs approches pour gérer ce déséquilibre."
   ],
   "metadata": {
    "collapsed": false
   },
   "id": "59e63673c1b7a543"
  },
  {
   "cell_type": "markdown",
   "source": [
    "## 2) Approche du ré-équilibrage par rejet"
   ],
   "metadata": {
    "collapsed": false
   },
   "id": "1d9acb8595e706c"
  },
  {
   "cell_type": "markdown",
   "source": [
    "Cette méthode consiste à supprimer des éléments des classes majoritaires pour atteindre un équilibre. Pour faire cela nous nous sommes appuyés sur un exemple dans la documentation de tensorflow : https://www.tensorflow.org/guide/data?hl=fr#resampling"
   ],
   "metadata": {
    "collapsed": false
   },
   "id": "989ab0498ed02332"
  },
  {
   "cell_type": "markdown",
   "source": [
    "### 2.1) Création d'un dataset équilibré sans w"
   ],
   "metadata": {
    "collapsed": false
   },
   "id": "fb7add9c16a70f7f"
  },
  {
   "cell_type": "code",
   "outputs": [],
   "source": [
    "dataset_sans_w = tf.keras.utils.image_dataset_from_directory(\n",
    "    'third_steps - Copie',\n",
    "    labels='inferred',\n",
    "    label_mode='int',\n",
    "    color_mode='grayscale',\n",
    "    image_size=(45,45)\n",
    ")"
   ],
   "metadata": {
    "collapsed": false
   },
   "id": "ffd8140838043f1c",
   "execution_count": null
  },
  {
   "cell_type": "code",
   "outputs": [],
   "source": [
    "def class_func(images, labels):\n",
    "    return labels\n",
    "\n",
    "resample_ds = (\n",
    "    dataset_sans_w\n",
    "    .unbatch()\n",
    "    .rejection_resample(class_func, target_dist = [1/31]*31, initial_dist=None)\n",
    ")"
   ],
   "metadata": {
    "collapsed": false
   },
   "id": "9c6f45af555bc802",
   "execution_count": null
  },
  {
   "cell_type": "code",
   "outputs": [],
   "source": [
    "balanced_ds = resample_ds.map(lambda extra_label, features_and_label: features_and_label)\n",
    "balanced_ds"
   ],
   "metadata": {
    "collapsed": false
   },
   "id": "a23a78201c032b05",
   "execution_count": null
  },
  {
   "cell_type": "code",
   "outputs": [],
   "source": [
    "data = []\n",
    "labels = []\n",
    "all_balanced_labels =[]\n",
    "\n",
    "\n",
    "for features, label in balanced_ds:\n",
    "    data.append(features)\n",
    "    labels.append(tf.one_hot(label, depth=31))\n",
    "    all_balanced_labels.append(label)\n"
   ],
   "metadata": {
    "collapsed": false
   },
   "id": "b77cea0c78df9b",
   "execution_count": null
  },
  {
   "cell_type": "code",
   "outputs": [],
   "source": [
    "balanced_ds = tf.data.Dataset.from_tensor_slices((data, labels))"
   ],
   "metadata": {
    "collapsed": false
   },
   "id": "8feb5784130eae85",
   "execution_count": null
  },
  {
   "cell_type": "code",
   "outputs": [],
   "source": [
    "all_balanced_labels = np.array(all_balanced_labels)"
   ],
   "metadata": {
    "collapsed": false
   },
   "id": "fab9da23fdf1848d",
   "execution_count": null
  },
  {
   "cell_type": "code",
   "outputs": [],
   "source": [
    "classes_balanced_ds = pd.DataFrame(all_balanced_labels, columns=['label'])  # On créé un dataframe\n",
    "classes_balanced_ds['count'] = classes_balanced_ds['label']  #on copie dans une colonne count la colonne label\n",
    "dist_balanced_classes = classes_balanced_ds.groupby('label').count()  # on compte le nombre d'éléments par classe\n",
    "dist_balanced_classes['labels'] = dataset_sans_w.class_names  #On récupère le nom des classes \n",
    "dist_balanced_classes"
   ],
   "metadata": {
    "collapsed": false
   },
   "id": "79bc0018905b1023",
   "execution_count": null
  },
  {
   "cell_type": "code",
   "outputs": [],
   "source": [
    "sn.barplot(x='labels', y='count', data = dist_balanced_classes)"
   ],
   "metadata": {
    "collapsed": false
   },
   "id": "d0445001c14eb476",
   "execution_count": null
  },
  {
   "cell_type": "code",
   "outputs": [],
   "source": [
    "# Configuration de l'ensemble de données pour l'entraînement\n",
    "balanced_ds = balanced_ds.shuffle(buffer_size=len(data), seed=123)\n",
    "balanced_ds = balanced_ds.batch(32)\n",
    "balanced_ds = balanced_ds.prefetch(buffer_size=tf.data.experimental.AUTOTUNE)\n",
    "\n",
    "# Afficher un échantillon d'images et d'étiquettes de l'ensemble de données\n",
    "for images, labels in balanced_ds.take(1):\n",
    "    print(\"Forme des images :\", images.shape)\n",
    "    print(\"Forme des étiquettes :\", labels.shape)\n",
    "    print(\"type des étiquettes :\", type(labels))"
   ],
   "metadata": {
    "collapsed": false
   },
   "id": "b3bda76c464a5018",
   "execution_count": null
  },
  {
   "cell_type": "markdown",
   "source": [
    "division du dataset en train et validation"
   ],
   "metadata": {
    "collapsed": false
   },
   "id": "4590e6c438bcd24a"
  },
  {
   "cell_type": "code",
   "outputs": [],
   "source": [
    "\n",
    "# Définir la taille de l'ensemble de validation\n",
    "validation_size = int(0.2 * len(balanced_ds))\n",
    "\n",
    "# Diviser l'ensemble de données en ensembles d'entraînement et de validation\n",
    "train_ds = balanced_ds.skip(validation_size)\n",
    "val_ds = balanced_ds.take(validation_size)\n",
    "\n",
    "# Afficher le nombre d'exemples dans chaque ensemble\n",
    "print(\"Nombre d'exemples dans l'ensemble d'entraînement :\", len(train_ds))\n",
    "print(\"Nombre d'exemples dans l'ensemble de validation :\", len(val_ds))"
   ],
   "metadata": {
    "collapsed": false
   },
   "id": "caccca863935af0d",
   "execution_count": null
  },
  {
   "cell_type": "markdown",
   "source": [
    "#### 2.1.1) Entrainement d'Albert"
   ],
   "metadata": {
    "collapsed": false
   },
   "id": "c0a2a4d8b5c8d808"
  },
  {
   "cell_type": "code",
   "outputs": [],
   "source": [
    "Albert_rejet = tf.keras.Sequential([\n",
    "    tf.keras.layers.Rescaling(1./255),\n",
    "    tf.keras.layers.Conv2D(64, (3, 3), activation='relu', input_shape=(45, 45, 1)),\n",
    "    tf.keras.layers.Dropout(0.1),\n",
    "    tf.keras.layers.MaxPooling2D((2, 2)),\n",
    "    tf.keras.layers.Conv2D(64, (3, 3), activation='relu', input_shape=(45, 45, 1)),\n",
    "    tf.keras.layers.Dropout(0.1),\n",
    "    tf.keras.layers.MaxPooling2D((2, 2)),\n",
    "    tf.keras.layers.Flatten(),\n",
    "    tf.keras.layers.Dense(128, activation='relu'),\n",
    "    tf.keras.layers.Dropout(0.1),\n",
    "    tf.keras.layers.Dense(31, activation='softmax')\n",
    "])"
   ],
   "metadata": {
    "collapsed": false
   },
   "id": "d19d3dca8d088d51"
  },
  {
   "cell_type": "code",
   "outputs": [],
   "source": [
    "Albert_rejet.compile(\n",
    "    optimizer='adam',\n",
    "    loss='categorical_crossentropy',\n",
    "    metrics=['accuracy'])"
   ],
   "metadata": {
    "collapsed": false
   },
   "id": "2154424739822247"
  },
  {
   "cell_type": "code",
   "outputs": [],
   "source": [
    "Albert_rejet.fit(\n",
    "    train_ds,\n",
    "    validation_data=val_ds,\n",
    "    epochs=10\n",
    ")"
   ],
   "metadata": {
    "collapsed": false
   },
   "id": "df64b56149e14188"
  },
  {
   "cell_type": "code",
   "outputs": [],
   "source": [
    "Albert_rejet.save('Albert_rejet.keras')"
   ],
   "metadata": {
    "collapsed": false
   },
   "id": "820d1efcc24f7227"
  },
  {
   "cell_type": "markdown",
   "source": [
    "#### 2.1.2) Entrainemment d'Alain"
   ],
   "metadata": {
    "collapsed": false
   },
   "id": "3826df1024d2dc54"
  },
  {
   "cell_type": "markdown",
   "source": [
    "Il faut considérer les images en couleurs"
   ],
   "metadata": {
    "collapsed": false
   },
   "id": "3b41089bb9b8e5bb"
  },
  {
   "cell_type": "code",
   "outputs": [],
   "source": [
    "dataset_sans_w_rgb = tf.keras.utils.image_dataset_from_directory(\n",
    "    'third_steps - Copie',\n",
    "    labels='inferred',\n",
    "    label_mode='int',\n",
    "    color_mode='rgb',\n",
    "    image_size=(45,45)\n",
    ")"
   ],
   "metadata": {
    "collapsed": false
   },
   "id": "8c6687717a306b64",
   "execution_count": null
  },
  {
   "cell_type": "code",
   "outputs": [],
   "source": [
    "def class_func(images, labels):\n",
    "    return labels\n",
    "\n",
    "resample_ds_rgb = (\n",
    "    dataset_sans_w_rgb\n",
    "    .unbatch()\n",
    "    .rejection_resample(class_func, target_dist = [1/31]*31, initial_dist=None)\n",
    ")\n"
   ],
   "metadata": {
    "collapsed": false
   },
   "id": "901dc9b6b776211a",
   "execution_count": null
  },
  {
   "cell_type": "code",
   "outputs": [],
   "source": [
    "balanced_ds_rgb = resample_ds_rgb.map(lambda extra_label, features_and_label: features_and_label)\n",
    "balanced_ds_rgb"
   ],
   "metadata": {
    "collapsed": false
   },
   "id": "6e4339ca06854599",
   "execution_count": null
  },
  {
   "cell_type": "code",
   "outputs": [],
   "source": [
    "data = []\n",
    "labels = []\n",
    "\n",
    "for features, label in balanced_ds_rgb:\n",
    "    data.append(features)\n",
    "    labels.append(tf.one_hot(label, depth=31))\n"
   ],
   "metadata": {
    "collapsed": false
   },
   "id": "98ec3f2ee227e9b4",
   "execution_count": null
  },
  {
   "cell_type": "code",
   "outputs": [],
   "source": [
    "balanced_ds_rgb = tf.data.Dataset.from_tensor_slices((data, labels))"
   ],
   "metadata": {
    "collapsed": false
   },
   "id": "48231e253350c046",
   "execution_count": null
  },
  {
   "cell_type": "code",
   "outputs": [],
   "source": [
    "balanced_ds_rgb = balanced_ds_rgb.shuffle(buffer_size=len(data), seed=123)\n",
    "balanced_ds_rgb = balanced_ds_rgb.batch(32)\n",
    "balanced_ds_rgb = balanced_ds_rgb.prefetch(buffer_size=tf.data.experimental.AUTOTUNE)"
   ],
   "metadata": {
    "collapsed": false
   },
   "id": "7a2d6439d56da97a",
   "execution_count": null
  },
  {
   "cell_type": "code",
   "outputs": [],
   "source": [
    "# Définir la taille de l'ensemble de validation\n",
    "validation_size = int(0.2 * len(balanced_ds_rgb))\n",
    "\n",
    "# Diviser l'ensemble de données en ensembles d'entraînement et de validation\n",
    "train_ds_rgb = balanced_ds_rgb.skip(validation_size)\n",
    "val_ds_rgb = balanced_ds_rgb.take(validation_size)\n"
   ],
   "metadata": {
    "collapsed": false
   },
   "id": "defccad8e6dbd2ba",
   "execution_count": null
  },
  {
   "cell_type": "markdown",
   "source": [
    "On peut maintenant créer Alain"
   ],
   "metadata": {
    "collapsed": false
   },
   "id": "7af71c1cb09ef1a9"
  },
  {
   "cell_type": "code",
   "outputs": [],
   "source": [
    "from tensorflow.keras.applications import MobileNetV2\n",
    "from tensorflow.keras.layers import Dense, Flatten, Input, Conv2D, BatchNormalization, ReLU, DepthwiseConv2D, GlobalAveragePooling2D, Dropout"
   ],
   "metadata": {
    "collapsed": false
   },
   "id": "c5d3373a828d48e8",
   "execution_count": null
  },
  {
   "cell_type": "code",
   "outputs": [],
   "source": [
    "preprocess_input = tf.keras.applications.mobilenet_v2.preprocess_input\n",
    "normalized_ds = train_ds_rgb.map(lambda x, y: (preprocess_input(x), y))\n",
    "image_batch, labels_batch = next(iter(normalized_ds))\n",
    "first_image = image_batch[0]\n",
    "# Notice the pixel values are now in `[-1,1]`.\n",
    "print(np.min(first_image), np.max(first_image))\n",
    "\n",
    "AUTOTUNE = tf.data.AUTOTUNE\n",
    "train_ds_rgb = train_ds_rgb.cache().prefetch(buffer_size=AUTOTUNE)\n",
    "val_ds_rgb = val_ds_rgb.cache().prefetch(buffer_size=AUTOTUNE)"
   ],
   "metadata": {
    "collapsed": false
   },
   "id": "3dbd939bb45eda00",
   "execution_count": null
  },
  {
   "cell_type": "code",
   "outputs": [],
   "source": [
    "input_shape = (45, 45, 3)  # Taille des images redimensionnées (45x45 en couleur)\n",
    "num_classes = 32  # Nombre de classes pour les symboles mathématiques\n",
    "base_model = MobileNetV2(weights='imagenet', include_top=False, input_shape=input_shape)"
   ],
   "metadata": {
    "collapsed": false
   },
   "id": "21ef5c03882326f1",
   "execution_count": null
  },
  {
   "cell_type": "code",
   "outputs": [],
   "source": [
    "input_tensor = Input(shape=(45, 45, 3))\n",
    "x = input_tensor\n",
    "x = preprocess_input(x)\n",
    "# followed by image-net model \n",
    "x = base_model(x, training=False)\n",
    "\n",
    "y = GlobalAveragePooling2D()(x)\n",
    "y = Dense(128, activation='relu')(y)\n",
    "y = Dense(64, activation='relu')(y)\n",
    "y = Dropout(0.2)(y)\n",
    "y = Dense(31, activation='softmax')(y)\n",
    "Alain = tf.keras.Model(input_tensor, y)"
   ],
   "metadata": {
    "collapsed": false
   },
   "id": "be2e45d05dd0b21",
   "execution_count": null
  },
  {
   "cell_type": "code",
   "outputs": [],
   "source": [
    "Alain.compile(\n",
    "    optimizer='adam',\n",
    "    loss='categorical_crossentropy',\n",
    "    metrics=['accuracy'])"
   ],
   "metadata": {
    "collapsed": false
   },
   "id": "7352790885249c18",
   "execution_count": null
  },
  {
   "cell_type": "code",
   "outputs": [],
   "source": [
    "base_model.trainable = False"
   ],
   "metadata": {
    "collapsed": false
   },
   "id": "ff69917a6dcaa677",
   "execution_count": null
  },
  {
   "cell_type": "code",
   "outputs": [],
   "source": [
    "Alain.fit(\n",
    "    train_ds_rgb,\n",
    "    validation_data=val_ds_rgb,\n",
    "    epochs=10\n",
    ")"
   ],
   "metadata": {
    "collapsed": false
   },
   "id": "a82eba60e93cd17f",
   "execution_count": null
  },
  {
   "cell_type": "code",
   "outputs": [],
   "source": [
    "Alain.fit(\n",
    "    train_ds_rgb,\n",
    "    validation_data=val_ds_rgb,\n",
    "    epochs=10\n",
    ")"
   ],
   "metadata": {
    "collapsed": false
   },
   "id": "75538fc88fc5b63d",
   "execution_count": null
  },
  {
   "cell_type": "code",
   "outputs": [],
   "source": [
    "filename = 'Alain_eq_rej_20epochs_drop02.keras'\n",
    "Alain.save(filename)"
   ],
   "metadata": {
    "collapsed": false
   },
   "id": "ecbdc2a1a1faff36",
   "execution_count": null
  },
  {
   "cell_type": "markdown",
   "source": [
    "## 3) Approche pondération des classes"
   ],
   "metadata": {
    "collapsed": false
   },
   "id": "c625878666cd9777"
  },
  {
   "cell_type": "code",
   "outputs": [],
   "source": [
    "class_weights = class_weight.compute_class_weight(class_weight='balanced',\n",
    "                                                  classes=np.unique(all_labels),\n",
    "                                                  y=all_labels)"
   ],
   "metadata": {
    "collapsed": false,
    "ExecuteTime": {
     "end_time": "2024-02-18T15:03:55.275940400Z",
     "start_time": "2024-02-18T15:03:55.103402Z"
    }
   },
   "id": "32a487674f9a5ccd",
   "execution_count": 7
  },
  {
   "cell_type": "code",
   "outputs": [
    {
     "data": {
      "text/plain": "       weight labels\n0    0.643150      (\n1    0.640417      )\n2    0.366087      +\n3    0.270412      -\n4    1.329648      0\n5    0.346651      1\n6    0.351677      2\n7    0.842716      3\n8    1.242995      4\n9    2.593283      5\n10   2.948424      6\n11   3.160257      7\n12   2.996476      8\n13   2.460045      9\n14   0.701556      =\n15   0.743364      A\n16   1.584486      C\n17   5.433326      G\n18   0.345687      X\n19   1.062673      b\n20   1.894721      d\n21   3.061334      e\n22   2.476613      f\n23   1.788558      i\n24   2.990627      k\n25   3.942190     pi\n26   2.827803  times\n27   7.244435      u\n28   5.900634      v\n29  16.534510      w\n30   0.984281      y\n31   1.566131      z",
      "text/html": "<div>\n<style scoped>\n    .dataframe tbody tr th:only-of-type {\n        vertical-align: middle;\n    }\n\n    .dataframe tbody tr th {\n        vertical-align: top;\n    }\n\n    .dataframe thead th {\n        text-align: right;\n    }\n</style>\n<table border=\"1\" class=\"dataframe\">\n  <thead>\n    <tr style=\"text-align: right;\">\n      <th></th>\n      <th>weight</th>\n      <th>labels</th>\n    </tr>\n  </thead>\n  <tbody>\n    <tr>\n      <th>0</th>\n      <td>0.643150</td>\n      <td>(</td>\n    </tr>\n    <tr>\n      <th>1</th>\n      <td>0.640417</td>\n      <td>)</td>\n    </tr>\n    <tr>\n      <th>2</th>\n      <td>0.366087</td>\n      <td>+</td>\n    </tr>\n    <tr>\n      <th>3</th>\n      <td>0.270412</td>\n      <td>-</td>\n    </tr>\n    <tr>\n      <th>4</th>\n      <td>1.329648</td>\n      <td>0</td>\n    </tr>\n    <tr>\n      <th>5</th>\n      <td>0.346651</td>\n      <td>1</td>\n    </tr>\n    <tr>\n      <th>6</th>\n      <td>0.351677</td>\n      <td>2</td>\n    </tr>\n    <tr>\n      <th>7</th>\n      <td>0.842716</td>\n      <td>3</td>\n    </tr>\n    <tr>\n      <th>8</th>\n      <td>1.242995</td>\n      <td>4</td>\n    </tr>\n    <tr>\n      <th>9</th>\n      <td>2.593283</td>\n      <td>5</td>\n    </tr>\n    <tr>\n      <th>10</th>\n      <td>2.948424</td>\n      <td>6</td>\n    </tr>\n    <tr>\n      <th>11</th>\n      <td>3.160257</td>\n      <td>7</td>\n    </tr>\n    <tr>\n      <th>12</th>\n      <td>2.996476</td>\n      <td>8</td>\n    </tr>\n    <tr>\n      <th>13</th>\n      <td>2.460045</td>\n      <td>9</td>\n    </tr>\n    <tr>\n      <th>14</th>\n      <td>0.701556</td>\n      <td>=</td>\n    </tr>\n    <tr>\n      <th>15</th>\n      <td>0.743364</td>\n      <td>A</td>\n    </tr>\n    <tr>\n      <th>16</th>\n      <td>1.584486</td>\n      <td>C</td>\n    </tr>\n    <tr>\n      <th>17</th>\n      <td>5.433326</td>\n      <td>G</td>\n    </tr>\n    <tr>\n      <th>18</th>\n      <td>0.345687</td>\n      <td>X</td>\n    </tr>\n    <tr>\n      <th>19</th>\n      <td>1.062673</td>\n      <td>b</td>\n    </tr>\n    <tr>\n      <th>20</th>\n      <td>1.894721</td>\n      <td>d</td>\n    </tr>\n    <tr>\n      <th>21</th>\n      <td>3.061334</td>\n      <td>e</td>\n    </tr>\n    <tr>\n      <th>22</th>\n      <td>2.476613</td>\n      <td>f</td>\n    </tr>\n    <tr>\n      <th>23</th>\n      <td>1.788558</td>\n      <td>i</td>\n    </tr>\n    <tr>\n      <th>24</th>\n      <td>2.990627</td>\n      <td>k</td>\n    </tr>\n    <tr>\n      <th>25</th>\n      <td>3.942190</td>\n      <td>pi</td>\n    </tr>\n    <tr>\n      <th>26</th>\n      <td>2.827803</td>\n      <td>times</td>\n    </tr>\n    <tr>\n      <th>27</th>\n      <td>7.244435</td>\n      <td>u</td>\n    </tr>\n    <tr>\n      <th>28</th>\n      <td>5.900634</td>\n      <td>v</td>\n    </tr>\n    <tr>\n      <th>29</th>\n      <td>16.534510</td>\n      <td>w</td>\n    </tr>\n    <tr>\n      <th>30</th>\n      <td>0.984281</td>\n      <td>y</td>\n    </tr>\n    <tr>\n      <th>31</th>\n      <td>1.566131</td>\n      <td>z</td>\n    </tr>\n  </tbody>\n</table>\n</div>"
     },
     "execution_count": 8,
     "metadata": {},
     "output_type": "execute_result"
    }
   ],
   "source": [
    "classes_w = pd.DataFrame(class_weights, columns=['weight']) # On créé un dataframe\n",
    "classes_w['labels'] = dataset.class_names #On récupère le nom des classes \n",
    "classes_w.head(32)"
   ],
   "metadata": {
    "collapsed": false,
    "ExecuteTime": {
     "end_time": "2024-02-18T15:03:55.314837Z",
     "start_time": "2024-02-18T15:03:55.275940400Z"
    }
   },
   "id": "64c6e115ac304ebd",
   "execution_count": 8
  },
  {
   "cell_type": "code",
   "outputs": [
    {
     "data": {
      "text/plain": "<Axes: xlabel='labels', ylabel='weight'>"
     },
     "execution_count": 9,
     "metadata": {},
     "output_type": "execute_result"
    },
    {
     "data": {
      "text/plain": "<Figure size 640x480 with 1 Axes>",
      "image/png": "[encoded data removed]"
     },
     "metadata": {},
     "output_type": "display_data"
    }
   ],
   "source": [
    "sn.barplot(x='labels', y='weight', data=classes_w)"
   ],
   "metadata": {
    "collapsed": false,
    "ExecuteTime": {
     "end_time": "2024-02-18T15:03:55.766628800Z",
     "start_time": "2024-02-18T15:03:55.292895600Z"
    }
   },
   "id": "e8496efa0f852893",
   "execution_count": 9
  },
  {
   "cell_type": "code",
   "outputs": [
    {
     "data": {
      "text/plain": "       weight labels  count  weighted_count\n0    0.643150      (  14294       9193.1875\n1    0.640417      )  14355       9193.1875\n2    0.366087      +  25112       9193.1875\n3    0.270412      -  33997       9193.1875\n4    1.329648      0   6914       9193.1875\n5    0.346651      1  26520       9193.1875\n6    0.351677      2  26141       9193.1875\n7    0.842716      3  10909       9193.1875\n8    1.242995      4   7396       9193.1875\n9    2.593283      5   3545       9193.1875\n10   2.948424      6   3118       9193.1875\n11   3.160257      7   2909       9193.1875\n12   2.996476      8   3068       9193.1875\n13   2.460045      9   3737       9193.1875\n14   0.701556      =  13104       9193.1875\n15   0.743364      A  12367       9193.1875\n16   1.584486      C   5802       9193.1875\n17   5.433326      G   1692       9193.1875\n18   0.345687      X  26594       9193.1875\n19   1.062673      b   8651       9193.1875\n20   1.894721      d   4852       9193.1875\n21   3.061334      e   3003       9193.1875\n22   2.476613      f   3712       9193.1875\n23   1.788558      i   5140       9193.1875\n24   2.990627      k   3074       9193.1875\n25   3.942190     pi   2332       9193.1875\n26   2.827803  times   3251       9193.1875\n27   7.244435      u   1269       9193.1875\n28   5.900634      v   1558       9193.1875\n29  16.534510      w    556       9193.1875\n30   0.984281      y   9340       9193.1875\n31   1.566131      z   5870       9193.1875",
      "text/html": "<div>\n<style scoped>\n    .dataframe tbody tr th:only-of-type {\n        vertical-align: middle;\n    }\n\n    .dataframe tbody tr th {\n        vertical-align: top;\n    }\n\n    .dataframe thead th {\n        text-align: right;\n    }\n</style>\n<table border=\"1\" class=\"dataframe\">\n  <thead>\n    <tr style=\"text-align: right;\">\n      <th></th>\n      <th>weight</th>\n      <th>labels</th>\n      <th>count</th>\n      <th>weighted_count</th>\n    </tr>\n  </thead>\n  <tbody>\n    <tr>\n      <th>0</th>\n      <td>0.643150</td>\n      <td>(</td>\n      <td>14294</td>\n      <td>9193.1875</td>\n    </tr>\n    <tr>\n      <th>1</th>\n      <td>0.640417</td>\n      <td>)</td>\n      <td>14355</td>\n      <td>9193.1875</td>\n    </tr>\n    <tr>\n      <th>2</th>\n      <td>0.366087</td>\n      <td>+</td>\n      <td>25112</td>\n      <td>9193.1875</td>\n    </tr>\n    <tr>\n      <th>3</th>\n      <td>0.270412</td>\n      <td>-</td>\n      <td>33997</td>\n      <td>9193.1875</td>\n    </tr>\n    <tr>\n      <th>4</th>\n      <td>1.329648</td>\n      <td>0</td>\n      <td>6914</td>\n      <td>9193.1875</td>\n    </tr>\n    <tr>\n      <th>5</th>\n      <td>0.346651</td>\n      <td>1</td>\n      <td>26520</td>\n      <td>9193.1875</td>\n    </tr>\n    <tr>\n      <th>6</th>\n      <td>0.351677</td>\n      <td>2</td>\n      <td>26141</td>\n      <td>9193.1875</td>\n    </tr>\n    <tr>\n      <th>7</th>\n      <td>0.842716</td>\n      <td>3</td>\n      <td>10909</td>\n      <td>9193.1875</td>\n    </tr>\n    <tr>\n      <th>8</th>\n      <td>1.242995</td>\n      <td>4</td>\n      <td>7396</td>\n      <td>9193.1875</td>\n    </tr>\n    <tr>\n      <th>9</th>\n      <td>2.593283</td>\n      <td>5</td>\n      <td>3545</td>\n      <td>9193.1875</td>\n    </tr>\n    <tr>\n      <th>10</th>\n      <td>2.948424</td>\n      <td>6</td>\n      <td>3118</td>\n      <td>9193.1875</td>\n    </tr>\n    <tr>\n      <th>11</th>\n      <td>3.160257</td>\n      <td>7</td>\n      <td>2909</td>\n      <td>9193.1875</td>\n    </tr>\n    <tr>\n      <th>12</th>\n      <td>2.996476</td>\n      <td>8</td>\n      <td>3068</td>\n      <td>9193.1875</td>\n    </tr>\n    <tr>\n      <th>13</th>\n      <td>2.460045</td>\n      <td>9</td>\n      <td>3737</td>\n      <td>9193.1875</td>\n    </tr>\n    <tr>\n      <th>14</th>\n      <td>0.701556</td>\n      <td>=</td>\n      <td>13104</td>\n      <td>9193.1875</td>\n    </tr>\n    <tr>\n      <th>15</th>\n      <td>0.743364</td>\n      <td>A</td>\n      <td>12367</td>\n      <td>9193.1875</td>\n    </tr>\n    <tr>\n      <th>16</th>\n      <td>1.584486</td>\n      <td>C</td>\n      <td>5802</td>\n      <td>9193.1875</td>\n    </tr>\n    <tr>\n      <th>17</th>\n      <td>5.433326</td>\n      <td>G</td>\n      <td>1692</td>\n      <td>9193.1875</td>\n    </tr>\n    <tr>\n      <th>18</th>\n      <td>0.345687</td>\n      <td>X</td>\n      <td>26594</td>\n      <td>9193.1875</td>\n    </tr>\n    <tr>\n      <th>19</th>\n      <td>1.062673</td>\n      <td>b</td>\n      <td>8651</td>\n      <td>9193.1875</td>\n    </tr>\n    <tr>\n      <th>20</th>\n      <td>1.894721</td>\n      <td>d</td>\n      <td>4852</td>\n      <td>9193.1875</td>\n    </tr>\n    <tr>\n      <th>21</th>\n      <td>3.061334</td>\n      <td>e</td>\n      <td>3003</td>\n      <td>9193.1875</td>\n    </tr>\n    <tr>\n      <th>22</th>\n      <td>2.476613</td>\n      <td>f</td>\n      <td>3712</td>\n      <td>9193.1875</td>\n    </tr>\n    <tr>\n      <th>23</th>\n      <td>1.788558</td>\n      <td>i</td>\n      <td>5140</td>\n      <td>9193.1875</td>\n    </tr>\n    <tr>\n      <th>24</th>\n      <td>2.990627</td>\n      <td>k</td>\n      <td>3074</td>\n      <td>9193.1875</td>\n    </tr>\n    <tr>\n      <th>25</th>\n      <td>3.942190</td>\n      <td>pi</td>\n      <td>2332</td>\n      <td>9193.1875</td>\n    </tr>\n    <tr>\n      <th>26</th>\n      <td>2.827803</td>\n      <td>times</td>\n      <td>3251</td>\n      <td>9193.1875</td>\n    </tr>\n    <tr>\n      <th>27</th>\n      <td>7.244435</td>\n      <td>u</td>\n      <td>1269</td>\n      <td>9193.1875</td>\n    </tr>\n    <tr>\n      <th>28</th>\n      <td>5.900634</td>\n      <td>v</td>\n      <td>1558</td>\n      <td>9193.1875</td>\n    </tr>\n    <tr>\n      <th>29</th>\n      <td>16.534510</td>\n      <td>w</td>\n      <td>556</td>\n      <td>9193.1875</td>\n    </tr>\n    <tr>\n      <th>30</th>\n      <td>0.984281</td>\n      <td>y</td>\n      <td>9340</td>\n      <td>9193.1875</td>\n    </tr>\n    <tr>\n      <th>31</th>\n      <td>1.566131</td>\n      <td>z</td>\n      <td>5870</td>\n      <td>9193.1875</td>\n    </tr>\n  </tbody>\n</table>\n</div>"
     },
     "execution_count": 10,
     "metadata": {},
     "output_type": "execute_result"
    }
   ],
   "source": [
    "classes_w['count'] = dist_classes['count']\n",
    "classes_w['weighted_count'] = classes_w['count'] * classes_w['weight']\n",
    "classes_w"
   ],
   "metadata": {
    "collapsed": false,
    "ExecuteTime": {
     "end_time": "2024-02-18T15:03:55.837439100Z",
     "start_time": "2024-02-18T15:03:55.768624400Z"
    }
   },
   "id": "1d22261dfa6035f4",
   "execution_count": 10
  },
  {
   "cell_type": "code",
   "outputs": [
    {
     "data": {
      "text/plain": "<Axes: xlabel='labels', ylabel='weighted_count'>"
     },
     "execution_count": 35,
     "metadata": {},
     "output_type": "execute_result"
    },
    {
     "data": {
      "text/plain": "<Figure size 640x480 with 1 Axes>",
      "image/png": "[encoded data removed]"
     },
     "metadata": {},
     "output_type": "display_data"
    }
   ],
   "source": [
    "sn.barplot(x = 'labels', y = 'weighted_count', data = classes_w)"
   ],
   "metadata": {
    "collapsed": false,
    "ExecuteTime": {
     "end_time": "2024-02-18T14:47:59.614479100Z",
     "start_time": "2024-02-18T14:47:58.529449400Z"
    }
   },
   "id": "478692217b3c59fd",
   "execution_count": 35
  },
  {
   "cell_type": "code",
   "outputs": [],
   "source": [
    "class_weights_dict = dict(enumerate(class_weights))"
   ],
   "metadata": {
    "collapsed": false,
    "ExecuteTime": {
     "end_time": "2024-02-18T15:03:55.839433200Z",
     "start_time": "2024-02-18T15:03:55.784580900Z"
    }
   },
   "id": "89f260866d92c5b6",
   "execution_count": 11
  },
  {
   "cell_type": "markdown",
   "source": [
    "### 3.1) Entrainement d'Albert"
   ],
   "metadata": {
    "collapsed": false
   },
   "id": "49655fcb1a32d9a9"
  },
  {
   "cell_type": "markdown",
   "source": [
    "On commence par charger les données "
   ],
   "metadata": {
    "collapsed": false
   },
   "id": "1118f09e2c3bb8a"
  },
  {
   "cell_type": "code",
   "outputs": [],
   "source": [
    "#donnees d entrainement\n",
    "train_ds = tf.keras.utils.image_dataset_from_directory(\n",
    "    'C:/Users/arthu/OneDrive/Documents/extracted_images/third_steps',\n",
    "    labels='inferred',\n",
    "    label_mode='categorical',\n",
    "    color_mode='grayscale',\n",
    "    image_size=(45, 45),\n",
    "    batch_size=64,\n",
    "    shuffle=True,\n",
    "    seed=123,\n",
    "    validation_split=0.2,\n",
    "    subset=\"training\"\n",
    ")\n",
    "\n",
    "# donnees de test\n",
    "val_ds = tf.keras.utils.image_dataset_from_directory(\n",
    "    'C:/Users/arthu/OneDrive/Documents/extracted_images/third_steps',\n",
    "    labels='inferred',\n",
    "    label_mode='categorical',\n",
    "    color_mode='grayscale',\n",
    "    image_size=(45, 45),\n",
    "    batch_size=64,\n",
    "    shuffle= True,\n",
    "    seed=123,\n",
    "    validation_split=0.2,\n",
    "    subset=\"validation\"\n",
    "\n",
    ")"
   ],
   "metadata": {
    "collapsed": false
   },
   "id": "11d3c2f8c2e3f7d6"
  },
  {
   "cell_type": "code",
   "outputs": [],
   "source": [
    "#classes pour les donnees d entrainement\n",
    "class_names = train_ds.class_names\n",
    "#normalisation des donnees\n",
    "normalization_layer = tf.keras.layers.Rescaling(1./255)\n",
    "normalized_ds = train_ds.map(lambda x, y: (normalization_layer(x), y))\n",
    "image_batch, labels_batch = next(iter(normalized_ds))\n",
    "\n",
    "#optimisation de la lecture des donnees\n",
    "AUTOTUNE = tf.data.AUTOTUNE\n",
    "train_ds = train_ds.cache().prefetch(buffer_size=AUTOTUNE)\n",
    "val_ds = val_ds.cache().prefetch(buffer_size=AUTOTUNE)\n",
    "\n",
    "num_classes = len(class_names)"
   ],
   "metadata": {
    "collapsed": false
   },
   "id": "1a9dc335a41d52f9"
  },
  {
   "cell_type": "markdown",
   "source": [
    "On a toujours le même modèle"
   ],
   "metadata": {
    "collapsed": false
   },
   "id": "cdb3287e22541958"
  },
  {
   "cell_type": "code",
   "outputs": [],
   "source": [
    "Albert_pond = tf.keras.Sequential([\n",
    "    tf.keras.layers.Rescaling(1./255),\n",
    "    tf.keras.layers.Conv2D(64, (3, 3), activation='relu', input_shape=(45, 45, 1)),\n",
    "    tf.keras.layers.Dropout(0.1),\n",
    "    tf.keras.layers.MaxPooling2D((2, 2)),\n",
    "    tf.keras.layers.Conv2D(64, (3, 3), activation='relu', input_shape=(45, 45, 1)),\n",
    "    tf.keras.layers.Dropout(0.1),\n",
    "    tf.keras.layers.MaxPooling2D((2, 2)),\n",
    "    tf.keras.layers.Flatten(),\n",
    "    tf.keras.layers.Dense(128, activation='relu'),\n",
    "    tf.keras.layers.Dropout(0.1),\n",
    "    tf.keras.layers.Dense(32, activation='softmax')\n",
    "])"
   ],
   "metadata": {
    "collapsed": false
   },
   "id": "75979989028201c9"
  },
  {
   "cell_type": "code",
   "outputs": [],
   "source": [
    "Albert_pond.compile(\n",
    "    optimizer='adam',\n",
    "    loss='categorical_crossentropy',\n",
    "    metrics=['accuracy'])"
   ],
   "metadata": {
    "collapsed": false
   },
   "id": "983e969df7035dc7"
  },
  {
   "cell_type": "markdown",
   "source": [
    "Lors de l'entraînement, on spécifie class_weight  "
   ],
   "metadata": {
    "collapsed": false
   },
   "id": "7570651adb6e75b1"
  },
  {
   "cell_type": "code",
   "outputs": [],
   "source": [
    "Albert_pond.fit(\n",
    "    train_ds,\n",
    "    validation_data=val_ds,\n",
    "    class_weight=class_weights_dict,\n",
    "    epochs=10\n",
    ")"
   ],
   "metadata": {
    "collapsed": false
   },
   "id": "bae1b5d221c94b1e"
  },
  {
   "cell_type": "code",
   "outputs": [],
   "source": [
    "Albert_pond.save('Albert_pond.keras')"
   ],
   "metadata": {
    "collapsed": false
   },
   "id": "4ad4a05a71e50f09"
  },
  {
   "cell_type": "markdown",
   "source": [
    "### 3.2) Entrainement d'Alain"
   ],
   "metadata": {
    "collapsed": false
   },
   "id": "3b1dc04762eeaee9"
  },
  {
   "cell_type": "code",
   "outputs": [
    {
     "name": "stdout",
     "output_type": "stream",
     "text": [
      "Found 294182 files belonging to 32 classes.\n",
      "Using 235346 files for training.\n"
     ]
    }
   ],
   "source": [
    "train_ds = tf.keras.utils.image_dataset_from_directory(\n",
    "    'C:/Users/arthu/OneDrive/Documents/extracted_images/third_steps',\n",
    "    labels='inferred',\n",
    "    label_mode='categorical',\n",
    "    color_mode='rgb',\n",
    "    image_size=(45,45),\n",
    "    batch_size= 64,\n",
    "    shuffle= True,\n",
    "    seed=123,\n",
    "    validation_split=0.2,\n",
    "    subset=\"training\"\n",
    ")"
   ],
   "metadata": {
    "collapsed": false
   },
   "id": "82d7d7bb7aa60354",
   "execution_count": 12
  },
  {
   "cell_type": "code",
   "outputs": [
    {
     "name": "stdout",
     "output_type": "stream",
     "text": [
      "Found 294182 files belonging to 32 classes.\n",
      "Using 58836 files for validation.\n"
     ]
    }
   ],
   "source": [
    "val_ds = tf.keras.utils.image_dataset_from_directory(\n",
    "    'C:/Users/arthu/OneDrive/Documents/extracted_images/third_steps',\n",
    "    labels='inferred',\n",
    "    label_mode='categorical',\n",
    "    color_mode='rgb',\n",
    "    image_size=(45,45),\n",
    "    batch_size= 64,\n",
    "    shuffle= True,\n",
    "    seed=123,\n",
    "    validation_split=0.2,\n",
    "    subset=\"validation\"\n",
    ")"
   ],
   "metadata": {
    "collapsed": false,
    "ExecuteTime": {
     "end_time": "2024-02-18T15:04:30.921008400Z",
     "start_time": "2024-02-18T15:04:14.071050800Z"
    }
   },
   "id": "99649b66500c844b",
   "execution_count": 13
  },
  {
   "cell_type": "code",
   "outputs": [
    {
     "name": "stdout",
     "output_type": "stream",
     "text": [
      "-1.0 1.0\n"
     ]
    }
   ],
   "source": [
    "preprocess_input = tf.keras.applications.mobilenet_v2.preprocess_input\n",
    "normalized_ds = train_ds.map(lambda x, y: (preprocess_input(x), y))\n",
    "image_batch, labels_batch = next(iter(normalized_ds))\n",
    "first_image = image_batch[0]\n",
    "# Notice the pixel values are now in `[-1,1]`.\n",
    "print(np.min(first_image), np.max(first_image))\n",
    "\n",
    "AUTOTUNE = tf.data.AUTOTUNE\n",
    "train_ds = train_ds.cache().prefetch(buffer_size=AUTOTUNE)\n",
    "val_ds = val_ds.cache().prefetch(buffer_size=AUTOTUNE)"
   ],
   "metadata": {
    "collapsed": false,
    "ExecuteTime": {
     "end_time": "2024-02-18T15:04:31.136432500Z",
     "start_time": "2024-02-18T15:04:30.904054600Z"
    }
   },
   "id": "b5e81a8ffe85ef99",
   "execution_count": 14
  },
  {
   "cell_type": "code",
   "outputs": [
    {
     "name": "stdout",
     "output_type": "stream",
     "text": [
      "WARNING:tensorflow:`input_shape` is undefined or non-square, or `rows` is not in [96, 128, 160, 192, 224]. Weights for input shape (224, 224) will be loaded as the default.\n",
      "WARNING:tensorflow:From C:\\Users\\arthu\\AppData\\Local\\Programs\\Python\\Python39\\lib\\site-packages\\keras\\src\\backend.py:1398: The name tf.executing_eagerly_outside_functions is deprecated. Please use tf.compat.v1.executing_eagerly_outside_functions instead.\n",
      "WARNING:tensorflow:From C:\\Users\\arthu\\AppData\\Local\\Programs\\Python\\Python39\\lib\\site-packages\\keras\\src\\layers\\normalization\\batch_normalization.py:979: The name tf.nn.fused_batch_norm is deprecated. Please use tf.compat.v1.nn.fused_batch_norm instead.\n",
      "Downloading data from https://storage.googleapis.com/tensorflow/keras-applications/mobilenet_v2/mobilenet_v2_weights_tf_dim_ordering_tf_kernels_1.0_224_no_top.h5\n",
      "9406464/9406464 [==============================] - 0s 0us/step\n"
     ]
    }
   ],
   "source": [
    "input_shape = (45, 45, 3)  # Taille des images redimensionnées (45x45 en couleur)\n",
    "num_classes = 32  # Nombre de classes pour les symboles mathématiques\n",
    "base_model = MobileNetV2(weights='imagenet', include_top=False, input_shape=input_shape)"
   ],
   "metadata": {
    "collapsed": false,
    "ExecuteTime": {
     "end_time": "2024-02-18T15:04:33.272721400Z",
     "start_time": "2024-02-18T15:04:31.125462200Z"
    }
   },
   "id": "384a9b5cb9d0a652",
   "execution_count": 15
  },
  {
   "cell_type": "code",
   "outputs": [],
   "source": [
    "input_tensor = Input(shape=(45, 45, 3))\n",
    "x = input_tensor\n",
    "x = preprocess_input(x)\n",
    "# followed by image-net model \n",
    "x = base_model(x, training=False)\n",
    "\n",
    "y = tf.keras.layers.GlobalAveragePooling2D()(x)\n",
    "y = tf.keras.layers.Dense(128, activation='relu')(y)\n",
    "y = tf.keras.layers.Dense(64, activation='relu')(y)\n",
    "y = tf.keras.layers.Dropout(0.05)(y)\n",
    "y = tf.keras.layers.Dense(32, activation='softmax')(y)\n",
    "Al1 = tf.keras.Model(input_tensor, y)"
   ],
   "metadata": {
    "collapsed": false,
    "ExecuteTime": {
     "end_time": "2024-02-18T15:04:33.670088300Z",
     "start_time": "2024-02-18T15:04:33.274715600Z"
    }
   },
   "id": "68afd5e0849ebb05",
   "execution_count": 16
  },
  {
   "cell_type": "code",
   "outputs": [],
   "source": [
    "Al1.compile(\n",
    "    optimizer='adam',\n",
    "    loss='categorical_crossentropy',\n",
    "    metrics=['accuracy'])"
   ],
   "metadata": {
    "collapsed": false,
    "ExecuteTime": {
     "end_time": "2024-02-18T15:06:07.938251Z",
     "start_time": "2024-02-18T15:06:07.898358Z"
    }
   },
   "id": "a39f5d4b133ef797",
   "execution_count": 19
  },
  {
   "cell_type": "code",
   "outputs": [],
   "source": [
    "base_model.trainable = False"
   ],
   "metadata": {
    "collapsed": false,
    "ExecuteTime": {
     "end_time": "2024-02-18T15:06:10.284070900Z",
     "start_time": "2024-02-18T15:06:10.250162200Z"
    }
   },
   "id": "57bfc014daa9d3e5",
   "execution_count": 20
  },
  {
   "cell_type": "code",
   "outputs": [
    {
     "name": "stdout",
     "output_type": "stream",
     "text": [
      "Model: \"model\"\n",
      "_________________________________________________________________\n",
      " Layer (type)                Output Shape              Param #   \n",
      "=================================================================\n",
      " input_2 (InputLayer)        [(None, 45, 45, 3)]       0         \n",
      "                                                                 \n",
      " tf.math.truediv (TFOpLambd  (None, 45, 45, 3)         0         \n",
      " a)                                                              \n",
      "                                                                 \n",
      " tf.math.subtract (TFOpLamb  (None, 45, 45, 3)         0         \n",
      " da)                                                             \n",
      "                                                                 \n",
      " mobilenetv2_1.00_224 (Func  (None, 2, 2, 1280)        2257984   \n",
      " tional)                                                         \n",
      "                                                                 \n",
      " global_average_pooling2d (  (None, 1280)              0         \n",
      " GlobalAveragePooling2D)                                         \n",
      "                                                                 \n",
      " dense (Dense)               (None, 128)               163968    \n",
      "                                                                 \n",
      " dense_1 (Dense)             (None, 64)                8256      \n",
      "                                                                 \n",
      " dropout (Dropout)           (None, 64)                0         \n",
      "                                                                 \n",
      " dense_2 (Dense)             (None, 32)                2080      \n",
      "                                                                 \n",
      "=================================================================\n",
      "Total params: 2432288 (9.28 MB)\n",
      "Trainable params: 174304 (680.88 KB)\n",
      "Non-trainable params: 2257984 (8.61 MB)\n",
      "_________________________________________________________________\n"
     ]
    }
   ],
   "source": [
    "Al1.summary()"
   ],
   "metadata": {
    "collapsed": false,
    "ExecuteTime": {
     "end_time": "2024-02-18T15:06:12.071277300Z",
     "start_time": "2024-02-18T15:06:11.915652Z"
    }
   },
   "id": "58f4704a2e1970fd",
   "execution_count": 21
  },
  {
   "cell_type": "code",
   "outputs": [
    {
     "name": "stdout",
     "output_type": "stream",
     "text": [
      "Epoch 1/10\n",
      "WARNING:tensorflow:From C:\\Users\\arthu\\AppData\\Local\\Programs\\Python\\Python39\\lib\\site-packages\\keras\\src\\utils\\tf_utils.py:492: The name tf.ragged.RaggedTensorValue is deprecated. Please use tf.compat.v1.ragged.RaggedTensorValue instead.\n",
      "WARNING:tensorflow:From C:\\Users\\arthu\\AppData\\Local\\Programs\\Python\\Python39\\lib\\site-packages\\keras\\src\\engine\\base_layer_utils.py:384: The name tf.executing_eagerly_outside_functions is deprecated. Please use tf.compat.v1.executing_eagerly_outside_functions instead.\n",
      "2323/3678 [=================>............] - ETA: 3:55 - loss: 3.4605 - accuracy: 0.0243"
     ]
    }
   ],
   "source": [
    "Al1.fit(\n",
    "    train_ds,\n",
    "    validation_data=val_ds,\n",
    "    epochs=10,\n",
    "    class_weight = class_weights_dict\n",
    ")"
   ],
   "metadata": {
    "collapsed": false,
    "is_executing": true,
    "ExecuteTime": {
     "start_time": "2024-02-18T15:06:23.011110200Z"
    }
   },
   "id": "531d5cd51deb6bf6",
   "execution_count": null
  },
  {
   "cell_type": "code",
   "outputs": [],
   "source": [],
   "metadata": {
    "collapsed": false
   },
   "id": "5fb2d7b010208608"
  }
 ],
 "metadata": {
  "kernelspec": {
   "display_name": "Python 3",
   "language": "python",
   "name": "python3"
  },
  "language_info": {
   "codemirror_mode": {
    "name": "ipython",
    "version": 2
   },
   "file_extension": ".py",
   "mimetype": "text/x-python",
   "name": "python",
   "nbconvert_exporter": "python",
   "pygments_lexer": "ipython2",
   "version": "2.7.6"
  }
 },
 "nbformat": 4,
 "nbformat_minor": 5
}
