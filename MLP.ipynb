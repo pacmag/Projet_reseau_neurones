{
 "cells": [
  {
   "cell_type": "markdown",
   "source": [
    "Importations"
   ],
   "metadata": {
    "collapsed": false
   },
   "id": "698a648810ea4e97"
  },
  {
   "cell_type": "code",
   "execution_count": 1,
   "id": "776808d97d7ea967",
   "metadata": {
    "collapsed": false,
    "ExecuteTime": {
     "end_time": "2024-02-18T15:23:10.067288100Z",
     "start_time": "2024-02-18T15:23:09.180387Z"
    }
   },
   "outputs": [
    {
     "name": "stderr",
     "output_type": "stream",
     "text": [
      "\n",
      "KeyboardInterrupt\n",
      "\n"
     ]
    }
   ],
   "source": [
    "import tensorflow as tf"
   ]
  },
  {
   "cell_type": "markdown",
   "source": [
    "On charge les données d'entraînement et de test en batch de 64 pour optimiser la lecture"
   ],
   "metadata": {
    "collapsed": false
   },
   "id": "26ba6ef598728880"
  },
  {
   "cell_type": "code",
   "outputs": [],
   "source": [
    "\n",
    "\n",
    "#donnees d entrainement\n",
    "train_ds = tf.keras.utils.image_dataset_from_directory(\n",
    "    'third_steps',\n",
    "    labels='inferred',\n",
    "    label_mode='categorical',\n",
    "    color_mode='grayscale',\n",
    "    image_size=(45, 45),\n",
    "    batch_size=64,\n",
    "    shuffle=True,\n",
    "    seed=123,\n",
    "    validation_split=0.2,\n",
    "    subset=\"training\"\n",
    ")\n",
    "\n",
    "# donnees de test\n",
    "val_ds = tf.keras.utils.image_dataset_from_directory(\n",
    "    'third_steps',\n",
    "    labels='inferred',\n",
    "    label_mode='categorical',\n",
    "    color_mode='grayscale',\n",
    "    image_size=(45, 45),\n",
    "    batch_size=64,\n",
    "    shuffle= True,\n",
    "    seed=123,\n",
    "    validation_split=0.2,\n",
    "    subset=\"validation\"\n",
    "\n",
    ")\n",
    "\n",
    "#classes pour les donnees d entrainement\n",
    "class_names = train_ds.class_names\n"
   ],
   "metadata": {
    "collapsed": true,
    "ExecuteTime": {
     "start_time": "2024-02-18T15:23:10.063298200Z"
    }
   },
   "id": "initial_id",
   "execution_count": null
  },
  {
   "cell_type": "code",
   "outputs": [],
   "source": [
    "#normalisation des donnees\n",
    "normalization_layer = tf.keras.layers.Rescaling(1./255)\n",
    "normalized_ds = train_ds.map(lambda x, y: (normalization_layer(x), y))\n",
    "image_batch, labels_batch = next(iter(normalized_ds))\n",
    "\n",
    "#optimisation de la lecture des donnees\n",
    "AUTOTUNE = tf.data.AUTOTUNE\n",
    "train_ds = train_ds.cache().prefetch(buffer_size=AUTOTUNE)\n",
    "val_ds = val_ds.cache().prefetch(buffer_size=AUTOTUNE)\n",
    "\n",
    "num_classes = len(class_names)"
   ],
   "metadata": {
    "collapsed": false,
    "ExecuteTime": {
     "start_time": "2024-02-18T15:23:10.066290900Z"
    }
   },
   "id": "1b63a0fda36698c2",
   "execution_count": null
  },
  {
   "cell_type": "markdown",
   "source": [
    "<h1> Paul"
   ],
   "metadata": {
    "collapsed": false
   },
   "id": "e55a34b7c50fa8e8"
  },
  {
   "cell_type": "markdown",
   "source": [
    "Création du modèle Norbert :\n",
    "- une couche rescaling\n",
    "- une couche flatten\n",
    "- 1 couches 256, activation ReLu\n",
    "- couche finale 32, activation softmax"
   ],
   "metadata": {
    "collapsed": false
   },
   "id": "8620d629638d670b"
  },
  {
   "cell_type": "code",
   "outputs": [],
   "source": [
    "Paul = tf.keras.Sequential([\n",
    "    tf.keras.layers.Rescaling(1. / 255),\n",
    "    tf.keras.layers.Flatten(),\n",
    "    tf.keras.layers.Dense(256, activation='relu'),\n",
    "    tf.keras.layers.Dense(32, activation='softmax')\n",
    "])"
   ],
   "metadata": {
    "collapsed": false,
    "ExecuteTime": {
     "start_time": "2024-02-18T15:23:10.068285Z"
    }
   },
   "id": "8ea8dd0afe600f39",
   "execution_count": null
  },
  {
   "cell_type": "markdown",
   "source": [
    "Compilation du modèle"
   ],
   "metadata": {
    "collapsed": false
   },
   "id": "1f2168fe5209f00c"
  },
  {
   "cell_type": "code",
   "outputs": [],
   "source": [
    "Paul.compile(\n",
    "    optimizer='adam',\n",
    "    loss='categorical_crossentropy',\n",
    "    metrics=['accuracy'])"
   ],
   "metadata": {
    "collapsed": false,
    "ExecuteTime": {
     "start_time": "2024-02-18T15:23:10.071277500Z"
    }
   },
   "id": "876440064679a274",
   "execution_count": null
  },
  {
   "cell_type": "markdown",
   "source": [
    "Apprentissage"
   ],
   "metadata": {
    "collapsed": false
   },
   "id": "ddfa682e8208751d"
  },
  {
   "cell_type": "code",
   "outputs": [],
   "source": [
    "Paul.fit(\n",
    "    train_ds,\n",
    "    validation_data=val_ds,\n",
    "    epochs=30\n",
    ")"
   ],
   "metadata": {
    "collapsed": false,
    "ExecuteTime": {
     "end_time": "2024-02-18T15:23:10.084273600Z",
     "start_time": "2024-02-18T15:23:10.073271900Z"
    }
   },
   "id": "7a287ef77b747058",
   "execution_count": null
  },
  {
   "cell_type": "markdown",
   "source": [
    "On sauvegarde le modèle pour pouvoir le charger sur tkinter dans un autre fichier"
   ],
   "metadata": {
    "collapsed": false
   },
   "id": "f382f436685af967"
  },
  {
   "cell_type": "code",
   "outputs": [],
   "source": [
    "Paul.save('C:/Users/arthu/OneDrive/Documents/Paul.keras')"
   ],
   "metadata": {
    "collapsed": false,
    "ExecuteTime": {
     "start_time": "2024-02-18T15:23:10.076263Z"
    }
   },
   "id": "3162c38d9ddb18f2",
   "execution_count": null
  },
  {
   "cell_type": "markdown",
   "source": [
    "Nous avons obtenu des résultats insatisfaisants, on essaie donc un nouveau modèle, Joris"
   ],
   "metadata": {
    "collapsed": false
   },
   "id": "540c846fa21ce839"
  },
  {
   "cell_type": "markdown",
   "source": [
    "<h1> Joris"
   ],
   "metadata": {
    "collapsed": false
   },
   "id": "3a366d302643c884"
  },
  {
   "cell_type": "markdown",
   "source": [
    "Création du modèle Joris :\n",
    "- une couche rescaling\n",
    "- une couche flatten\n",
    "- 3 couches 64, activation ReLu\n",
    "- couche finale 32, activation softmax"
   ],
   "metadata": {
    "collapsed": false
   },
   "id": "4ba90820297e9a80"
  },
  {
   "cell_type": "code",
   "outputs": [],
   "source": [
    "Joris = tf.keras.Sequential([\n",
    "    tf.keras.layers.Rescaling(1. / 255),\n",
    "    tf.keras.layers.Flatten(),\n",
    "    tf.keras.layers.Dense(128, activation='relu'),\n",
    "    tf.keras.layers.Dense(128, activation='relu'),\n",
    "    tf.keras.layers.Dense(128, activation='relu'),\n",
    "    tf.keras.layers.Dense(32, activation='softmax')\n",
    "])"
   ],
   "metadata": {
    "collapsed": false,
    "ExecuteTime": {
     "start_time": "2024-02-18T15:23:10.078258700Z"
    }
   },
   "id": "6d21cbb4d3d6381",
   "execution_count": null
  },
  {
   "cell_type": "markdown",
   "source": [
    "Compilation"
   ],
   "metadata": {
    "collapsed": false
   },
   "id": "cb77bceeebe0f7b3"
  },
  {
   "cell_type": "code",
   "outputs": [],
   "source": [
    "\n",
    "Joris.compile(\n",
    "    optimizer='adam',\n",
    "    loss='categorical_crossentropy',\n",
    "    metrics=['accuracy'])"
   ],
   "metadata": {
    "collapsed": false,
    "ExecuteTime": {
     "start_time": "2024-02-18T15:23:10.080253200Z"
    }
   },
   "id": "3a4208a66697366f",
   "execution_count": null
  },
  {
   "cell_type": "markdown",
   "source": [
    "Entrainement avec 20 epochs"
   ],
   "metadata": {
    "collapsed": false
   },
   "id": "a066ed2ddb5c0c3a"
  },
  {
   "cell_type": "code",
   "outputs": [],
   "source": [
    "Joris.fit(\n",
    "    train_ds,\n",
    "    validation_data=val_ds,\n",
    "    epochs=20\n",
    ")"
   ],
   "metadata": {
    "collapsed": false,
    "ExecuteTime": {
     "start_time": "2024-02-18T15:23:10.082247600Z"
    }
   },
   "id": "e42137a8ee24b80e",
   "execution_count": null
  },
  {
   "cell_type": "code",
   "outputs": [],
   "source": [
    "Joris.save('C:/Users/arthu/OneDrive/Documents/Joris.keras')"
   ],
   "metadata": {
    "collapsed": false,
    "ExecuteTime": {
     "start_time": "2024-02-18T15:23:10.084273600Z"
    }
   },
   "id": "5a076255ca01f403",
   "execution_count": null
  }
 ],
 "metadata": {
  "kernelspec": {
   "display_name": "Python 3",
   "language": "python",
   "name": "python3"
  },
  "language_info": {
   "codemirror_mode": {
    "name": "ipython",
    "version": 2
   },
   "file_extension": ".py",
   "mimetype": "text/x-python",
   "name": "python",
   "nbconvert_exporter": "python",
   "pygments_lexer": "ipython2",
   "version": "2.7.6"
  }
 },
 "nbformat": 4,
 "nbformat_minor": 5
}
