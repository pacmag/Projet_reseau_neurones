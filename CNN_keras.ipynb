{
 "cells": [
  {
   "cell_type": "markdown",
   "source": [
    "# Réseau de neurones avec Keras"
   ],
   "metadata": {
    "collapsed": false
   },
   "id": "5cc8e200cf76e21f"
  },
  {
   "cell_type": "markdown",
   "source": [
    "### Librairies"
   ],
   "metadata": {
    "collapsed": false
   },
   "id": "de3cc7c67f9333"
  },
  {
   "cell_type": "code",
   "execution_count": 3,
   "id": "initial_id",
   "metadata": {
    "collapsed": true,
    "ExecuteTime": {
     "end_time": "2024-02-17T20:54:20.388531400Z",
     "start_time": "2024-02-17T20:54:20.283835300Z"
    }
   },
   "outputs": [],
   "source": [
    "import tensorflow as tf\n",
    "import numpy as np\n",
    "import matplotlib.pyplot as plt"
   ]
  },
  {
   "cell_type": "markdown",
   "source": [],
   "metadata": {
    "collapsed": false
   },
   "id": "9ad09f77b2fee7d7"
  },
  {
   "cell_type": "markdown",
   "source": [
    "### Chargement des données"
   ],
   "metadata": {
    "collapsed": false
   },
   "id": "7d8ceaf57e578465"
  },
  {
   "cell_type": "code",
   "outputs": [
    {
     "name": "stdout",
     "output_type": "stream",
     "text": [
      "Found 294182 files belonging to 32 classes.\n",
      "Using 235346 files for training.\n"
     ]
    }
   ],
   "source": [
    "train_ds = tf.keras.utils.image_dataset_from_directory(\n",
    "    'third_steps',\n",
    "    labels='inferred',\n",
    "    label_mode='categorical',\n",
    "    color_mode='grayscale',\n",
    "    image_size=(45,45),\n",
    "    batch_size= 64,\n",
    "    shuffle= True,\n",
    "    seed=123,\n",
    "    validation_split=0.2,\n",
    "    subset=\"training\"  \n",
    ")\n"
   ],
   "metadata": {
    "collapsed": false,
    "ExecuteTime": {
     "end_time": "2024-02-17T20:54:41.366093Z",
     "start_time": "2024-02-17T20:54:20.392519900Z"
    }
   },
   "id": "5dacdcdf78a34162",
   "execution_count": 4
  },
  {
   "cell_type": "code",
   "outputs": [
    {
     "name": "stdout",
     "output_type": "stream",
     "text": [
      "Found 294182 files belonging to 32 classes.\n",
      "Using 58836 files for validation.\n"
     ]
    }
   ],
   "source": [
    "val_ds = tf.keras.utils.image_dataset_from_directory(\n",
    "    'third_steps',\n",
    "    labels='inferred',\n",
    "    label_mode='categorical',\n",
    "    color_mode='grayscale',\n",
    "    image_size=(45,45),\n",
    "    batch_size= 64,\n",
    "    shuffle= True,\n",
    "    seed=123,\n",
    "    validation_split=0.2,\n",
    "    subset=\"validation\"\n",
    ")\n"
   ],
   "metadata": {
    "collapsed": false,
    "ExecuteTime": {
     "end_time": "2024-02-17T20:54:59.694181500Z",
     "start_time": "2024-02-17T20:54:41.368085400Z"
    }
   },
   "id": "372f3df03ee2c72e",
   "execution_count": 5
  },
  {
   "cell_type": "code",
   "outputs": [
    {
     "name": "stdout",
     "output_type": "stream",
     "text": [
      "['(', ')', '+', '-', '0', '1', '2', '3', '4', '5', '6', '7', '8', '9', '=', 'A', 'C', 'G', 'X', 'b', 'd', 'e', 'f', 'i', 'k', 'pi', 'times', 'u', 'v', 'w', 'y', 'z']\n"
     ]
    }
   ],
   "source": [
    "class_names = train_ds.class_names\n",
    "print(class_names)\n"
   ],
   "metadata": {
    "collapsed": false,
    "ExecuteTime": {
     "end_time": "2024-02-17T20:54:59.717121700Z",
     "start_time": "2024-02-17T20:54:59.693185100Z"
    }
   },
   "id": "54e54d006218f348",
   "execution_count": 6
  },
  {
   "cell_type": "code",
   "outputs": [
    {
     "name": "stdout",
     "output_type": "stream",
     "text": [
      "(64, 45, 45, 1)\n",
      "(64, 32)\n"
     ]
    }
   ],
   "source": [
    "for image_batch, labels_batch in train_ds:\n",
    "    print(image_batch.shape)\n",
    "    print(labels_batch.shape)\n",
    "    break\n",
    "\n"
   ],
   "metadata": {
    "collapsed": false,
    "ExecuteTime": {
     "end_time": "2024-02-17T20:54:59.908207Z",
     "start_time": "2024-02-17T20:54:59.712134900Z"
    }
   },
   "id": "f4601bfc7fed70ae",
   "execution_count": 7
  },
  {
   "cell_type": "code",
   "outputs": [
    {
     "name": "stdout",
     "output_type": "stream",
     "text": [
      "WARNING:tensorflow:From C:\\Users\\arthu\\AppData\\Local\\Programs\\Python\\Python39\\lib\\site-packages\\keras\\src\\backend.py:873: The name tf.get_default_graph is deprecated. Please use tf.compat.v1.get_default_graph instead.\n",
      "0.0 1.0\n"
     ]
    }
   ],
   "source": [
    "normalization_layer = tf.keras.layers.Rescaling(1./255)\n",
    "\n",
    "normalized_ds = train_ds.map(lambda x, y: (normalization_layer(x), y))\n",
    "image_batch, labels_batch = next(iter(normalized_ds))\n",
    "first_image = image_batch[0]\n",
    "# Notice the pixel values are now in `[0,1]`.\n",
    "print(np.min(first_image), np.max(first_image))\n"
   ],
   "metadata": {
    "collapsed": false,
    "ExecuteTime": {
     "end_time": "2024-02-17T20:55:00.157080400Z",
     "start_time": "2024-02-17T20:54:59.898770500Z"
    }
   },
   "id": "ad891670cff15898",
   "execution_count": 8
  },
  {
   "cell_type": "code",
   "outputs": [],
   "source": [
    "AUTOTUNE = tf.data.AUTOTUNE\n",
    "\n",
    "train_ds = train_ds.cache().prefetch(buffer_size=AUTOTUNE)\n",
    "val_ds = val_ds.cache().prefetch(buffer_size=AUTOTUNE)"
   ],
   "metadata": {
    "collapsed": false,
    "ExecuteTime": {
     "end_time": "2024-02-17T20:55:00.187997Z",
     "start_time": "2024-02-17T20:55:00.149101300Z"
    }
   },
   "id": "b8683e578aa0e6ff",
   "execution_count": 9
  },
  {
   "cell_type": "markdown",
   "source": [
    "## CNN"
   ],
   "metadata": {
    "collapsed": false
   },
   "id": "50c80ee3f97f0daf"
  },
  {
   "cell_type": "markdown",
   "source": [
    "### Model 1 : Robert"
   ],
   "metadata": {
    "collapsed": false
   },
   "id": "b06d083fb4934d1e"
  },
  {
   "cell_type": "code",
   "outputs": [
    {
     "name": "stdout",
     "output_type": "stream",
     "text": [
      "WARNING:tensorflow:From C:\\Users\\arthu\\AppData\\Local\\Programs\\Python\\Python39\\lib\\site-packages\\keras\\src\\layers\\pooling\\max_pooling2d.py:161: The name tf.nn.max_pool is deprecated. Please use tf.nn.max_pool2d instead.\n"
     ]
    }
   ],
   "source": [
    "Robert = tf.keras.Sequential([\n",
    "    tf.keras.layers.Rescaling(1./255),\n",
    "    tf.keras.layers.Conv2D(32, (3, 3), activation='relu', input_shape=(45, 45, 1)),\n",
    "    tf.keras.layers.MaxPooling2D((2, 2)),\n",
    "    tf.keras.layers.Flatten(),\n",
    "    tf.keras.layers.Dense(64, activation='relu'),\n",
    "    tf.keras.layers.Dense(32, activation='softmax')\n",
    "])"
   ],
   "metadata": {
    "collapsed": false,
    "ExecuteTime": {
     "end_time": "2024-02-17T20:55:00.276534600Z",
     "start_time": "2024-02-17T20:55:00.181016Z"
    }
   },
   "id": "31c35a860c2f960c",
   "execution_count": 10
  },
  {
   "cell_type": "code",
   "outputs": [
    {
     "name": "stdout",
     "output_type": "stream",
     "text": [
      "WARNING:tensorflow:From C:\\Users\\arthu\\AppData\\Local\\Programs\\Python\\Python39\\lib\\site-packages\\keras\\src\\optimizers\\__init__.py:309: The name tf.train.Optimizer is deprecated. Please use tf.compat.v1.train.Optimizer instead.\n"
     ]
    }
   ],
   "source": [
    "Robert.compile(\n",
    "    optimizer='adam',\n",
    "    loss='categorical_crossentropy',\n",
    "    metrics=['accuracy'])"
   ],
   "metadata": {
    "collapsed": false,
    "ExecuteTime": {
     "end_time": "2024-02-17T20:55:00.404222300Z",
     "start_time": "2024-02-17T20:55:00.260578300Z"
    }
   },
   "id": "bdd802185690f533",
   "execution_count": 11
  },
  {
   "cell_type": "code",
   "outputs": [
    {
     "name": "stdout",
     "output_type": "stream",
     "text": [
      "Epoch 1/5\n",
      "WARNING:tensorflow:From C:\\Users\\arthu\\AppData\\Local\\Programs\\Python\\Python39\\lib\\site-packages\\keras\\src\\utils\\tf_utils.py:492: The name tf.ragged.RaggedTensorValue is deprecated. Please use tf.compat.v1.ragged.RaggedTensorValue instead.\n",
      "WARNING:tensorflow:From C:\\Users\\arthu\\AppData\\Local\\Programs\\Python\\Python39\\lib\\site-packages\\keras\\src\\engine\\base_layer_utils.py:384: The name tf.executing_eagerly_outside_functions is deprecated. Please use tf.compat.v1.executing_eagerly_outside_functions instead.\n",
      "3678/3678 [==============================] - 144s 39ms/step - loss: 0.5017 - accuracy: 0.8654 - val_loss: 0.2428 - val_accuracy: 0.9318\n",
      "Epoch 2/5\n",
      "3678/3678 [==============================] - 85s 23ms/step - loss: 0.1713 - accuracy: 0.9517 - val_loss: 0.1456 - val_accuracy: 0.9574\n",
      "Epoch 3/5\n",
      "3678/3678 [==============================] - 85s 23ms/step - loss: 0.0914 - accuracy: 0.9739 - val_loss: 0.1014 - val_accuracy: 0.9696\n",
      "Epoch 4/5\n",
      "3678/3678 [==============================] - 88s 24ms/step - loss: 0.0523 - accuracy: 0.9848 - val_loss: 0.0753 - val_accuracy: 0.9766\n",
      "Epoch 5/5\n",
      "3678/3678 [==============================] - 88s 24ms/step - loss: 0.0343 - accuracy: 0.9894 - val_loss: 0.0526 - val_accuracy: 0.9841\n"
     ]
    },
    {
     "data": {
      "text/plain": "<keras.src.callbacks.History at 0x1f3d16d7670>"
     },
     "execution_count": 12,
     "metadata": {},
     "output_type": "execute_result"
    }
   ],
   "source": [
    "Robert.fit(\n",
    "    train_ds,\n",
    "    validation_data=val_ds,\n",
    "    epochs=5\n",
    ")"
   ],
   "metadata": {
    "collapsed": false,
    "ExecuteTime": {
     "end_time": "2024-02-17T21:03:10.573369700Z",
     "start_time": "2024-02-17T20:55:00.386242500Z"
    }
   },
   "id": "39256bcde7f6ea2",
   "execution_count": 12
  },
  {
   "cell_type": "code",
   "outputs": [],
   "source": [
    "filename = 'Robert_le_vrai_10epoch.keras'\n",
    "Robert.save(filename)"
   ],
   "metadata": {
    "collapsed": false,
    "ExecuteTime": {
     "end_time": "2024-02-17T21:03:10.807879200Z",
     "start_time": "2024-02-17T21:03:10.544450800Z"
    }
   },
   "id": "69b557140fa86f29",
   "execution_count": 13
  },
  {
   "cell_type": "code",
   "outputs": [
    {
     "ename": "TypeError",
     "evalue": "'History' object is not subscriptable",
     "output_type": "error",
     "traceback": [
      "\u001B[1;31m---------------------------------------------------------------------------\u001B[0m",
      "\u001B[1;31mTypeError\u001B[0m                                 Traceback (most recent call last)",
      "Cell \u001B[1;32mIn[14], line 2\u001B[0m\n\u001B[0;32m      1\u001B[0m my_saved_model \u001B[38;5;241m=\u001B[39m tf\u001B[38;5;241m.\u001B[39mkeras\u001B[38;5;241m.\u001B[39mmodels\u001B[38;5;241m.\u001B[39mload_model(\u001B[38;5;124m'\u001B[39m\u001B[38;5;124mRobert_le_vrai_5epoch.keras\u001B[39m\u001B[38;5;124m'\u001B[39m)\n\u001B[1;32m----> 2\u001B[0m \u001B[43mRobert\u001B[49m\u001B[38;5;241;43m.\u001B[39;49m\u001B[43mhistory\u001B[49m\u001B[43m[\u001B[49m\u001B[38;5;124;43m'\u001B[39;49m\u001B[38;5;124;43maccuracy\u001B[39;49m\u001B[38;5;124;43m'\u001B[39;49m\u001B[43m]\u001B[49m\n",
      "\u001B[1;31mTypeError\u001B[0m: 'History' object is not subscriptable"
     ]
    }
   ],
   "source": [
    "my_saved_model = tf.keras.models.load_model('Robert_le_vrai_5epoch.keras')\n",
    "Robert.history['accuracy']\n"
   ],
   "metadata": {
    "collapsed": false,
    "ExecuteTime": {
     "end_time": "2024-02-17T21:03:11.493422700Z",
     "start_time": "2024-02-17T21:03:10.820811Z"
    }
   },
   "id": "f6b5ab884a3566b7",
   "execution_count": 14
  },
  {
   "cell_type": "markdown",
   "source": [
    "### Model 2 : Jean-Michel"
   ],
   "metadata": {
    "collapsed": false
   },
   "id": "cc5100d9179138d4"
  },
  {
   "cell_type": "code",
   "outputs": [],
   "source": [
    "Jean_Michel = tf.keras.Sequential([\n",
    "    tf.keras.layers.Rescaling(1./255),\n",
    "    tf.keras.layers.Conv2D(64, (3, 3), activation='relu', input_shape=(45, 45, 1)),\n",
    "    tf.keras.layers.MaxPooling2D((2, 2)),\n",
    "    tf.keras.layers.Conv2D(32, (3, 3), activation='relu', input_shape=(45, 45, 1)),\n",
    "    tf.keras.layers.MaxPooling2D((2, 2)),\n",
    "    tf.keras.layers.Conv2D(16, (3, 3), activation='relu', input_shape=(45, 45, 1)),\n",
    "    tf.keras.layers.MaxPooling2D((2, 2)),\n",
    "    tf.keras.layers.Flatten(),\n",
    "    tf.keras.layers.Dense(64, activation='relu'),\n",
    "    tf.keras.layers.Dense(32, activation='softmax')\n",
    "])"
   ],
   "metadata": {
    "collapsed": false,
    "ExecuteTime": {
     "start_time": "2024-02-17T21:03:11.490430200Z"
    }
   },
   "id": "1e030253194337a7",
   "execution_count": null
  },
  {
   "cell_type": "code",
   "outputs": [],
   "source": [
    "Jean_Michel.compile(\n",
    "    optimizer='adam',\n",
    "    loss='categorical_crossentropy',\n",
    "    metrics=['accuracy'])"
   ],
   "metadata": {
    "collapsed": false,
    "ExecuteTime": {
     "start_time": "2024-02-17T21:03:11.492425Z"
    }
   },
   "id": "e53b106702addb8e",
   "execution_count": null
  },
  {
   "cell_type": "code",
   "outputs": [],
   "source": [
    "Jean_Michel.fit(\n",
    "    train_ds,\n",
    "    validation_data=val_ds,\n",
    "    epochs=10\n",
    ")"
   ],
   "metadata": {
    "collapsed": false,
    "ExecuteTime": {
     "start_time": "2024-02-17T21:03:11.495417300Z"
    }
   },
   "id": "759435cdd22c0195",
   "execution_count": null
  },
  {
   "cell_type": "code",
   "outputs": [],
   "source": [
    "filename = 'Jean-Michel-10epoch.keras'\n",
    "Jean_Michel.save(filename)"
   ],
   "metadata": {
    "collapsed": false,
    "ExecuteTime": {
     "start_time": "2024-02-17T21:03:11.497412100Z"
    }
   },
   "id": "b37fb2a62110c332",
   "execution_count": null
  },
  {
   "cell_type": "code",
   "outputs": [],
   "source": [
    "Jean_Michel.fit(\n",
    "    train_ds,\n",
    "    validation_data=val_ds,\n",
    "    epochs=5\n",
    ")"
   ],
   "metadata": {
    "collapsed": false,
    "ExecuteTime": {
     "end_time": "2024-02-17T21:03:11.515363700Z",
     "start_time": "2024-02-17T21:03:11.500404Z"
    }
   },
   "id": "bd98a6666503ccba",
   "execution_count": null
  },
  {
   "cell_type": "code",
   "outputs": [],
   "source": [
    "filename = 'Jean-Michel-15epoch.keras'\n",
    "Jean_Michel.save(filename)"
   ],
   "metadata": {
    "collapsed": false,
    "ExecuteTime": {
     "start_time": "2024-02-17T21:03:11.503396900Z"
    }
   },
   "id": "8990dbcb225da002",
   "execution_count": null
  },
  {
   "cell_type": "code",
   "outputs": [],
   "source": [
    "Jean_Michel.fit(\n",
    "    train_ds,\n",
    "    validation_data=val_ds,\n",
    "    epochs=5\n",
    ")"
   ],
   "metadata": {
    "collapsed": false,
    "ExecuteTime": {
     "start_time": "2024-02-17T21:03:11.505390300Z"
    }
   },
   "id": "78ae249ec6e5806f"
  },
  {
   "cell_type": "markdown",
   "source": [
    "### Model 3 : Albert"
   ],
   "metadata": {
    "collapsed": false
   },
   "id": "6b6ce9df6f098044"
  },
  {
   "cell_type": "code",
   "outputs": [],
   "source": [
    "Albert = tf.keras.Sequential([\n",
    "    tf.keras.layers.Rescaling(1./255),\n",
    "    tf.keras.layers.Conv2D(64, (3, 3), activation='relu', input_shape=(45, 45, 1)),\n",
    "    tf.keras.layers.Dropout(0.1),\n",
    "    tf.keras.layers.MaxPooling2D((2, 2)),\n",
    "    tf.keras.layers.Conv2D(64, (3, 3), activation='relu', input_shape=(45, 45, 1)),\n",
    "    tf.keras.layers.Dropout(0.1),\n",
    "    tf.keras.layers.MaxPooling2D((2, 2)),\n",
    "    tf.keras.layers.Flatten(),\n",
    "    tf.keras.layers.Dense(128, activation='relu'),\n",
    "    tf.keras.layers.Dropout(0.1),\n",
    "    tf.keras.layers.Dense(32, activation='softmax')\n",
    "])"
   ],
   "metadata": {
    "collapsed": false,
    "ExecuteTime": {
     "start_time": "2024-02-17T21:03:11.506387600Z"
    }
   },
   "id": "a216d1191f9c0f6d"
  },
  {
   "cell_type": "code",
   "outputs": [],
   "source": [
    "\n",
    "Albert.compile(\n",
    "    optimizer='adam',\n",
    "    loss='categorical_crossentropy',\n",
    "    metrics=['accuracy'])"
   ],
   "metadata": {
    "collapsed": false,
    "ExecuteTime": {
     "start_time": "2024-02-17T21:03:11.508382200Z"
    }
   },
   "id": "1223b274e17adf8e"
  },
  {
   "cell_type": "code",
   "outputs": [],
   "source": [
    "Albert.fit(\n",
    "    train_ds,\n",
    "    validation_data=val_ds,\n",
    "    epochs=10\n",
    ")"
   ],
   "metadata": {
    "collapsed": false,
    "ExecuteTime": {
     "start_time": "2024-02-17T21:03:11.509379500Z"
    }
   },
   "id": "c65a92355c6f1cd4"
  },
  {
   "cell_type": "code",
   "outputs": [],
   "source": [
    "Albert.save('Albert.keras')"
   ],
   "metadata": {
    "collapsed": false,
    "ExecuteTime": {
     "start_time": "2024-02-17T21:03:11.511374300Z"
    }
   },
   "id": "9f9d495f4c7ced4"
  }
 ],
 "metadata": {
  "kernelspec": {
   "display_name": "Python 3",
   "language": "python",
   "name": "python3"
  },
  "language_info": {
   "codemirror_mode": {
    "name": "ipython",
    "version": 2
   },
   "file_extension": ".py",
   "mimetype": "text/x-python",
   "name": "python",
   "nbconvert_exporter": "python",
   "pygments_lexer": "ipython2",
   "version": "2.7.6"
  }
 },
 "nbformat": 4,
 "nbformat_minor": 5
}
